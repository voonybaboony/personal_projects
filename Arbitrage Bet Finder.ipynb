{
 "cells": [
  {
   "cell_type": "code",
   "execution_count": 1,
   "metadata": {},
   "outputs": [],
   "source": [
    "import requests\n",
    "import pandas as pd\n",
    "from pandas.io.json import json_normalize\n",
    "import numpy as np\n",
    "import warnings\n",
    "warnings.simplefilter('ignore')"
   ]
  },
  {
   "cell_type": "markdown",
   "metadata": {},
   "source": [
    "# Sport Selection"
   ]
  },
  {
   "cell_type": "code",
   "execution_count": 2,
   "metadata": {},
   "outputs": [],
   "source": [
    "nfl = \"americanfootball_nfl\"\n",
    "nba = \"basketball_nba\"\n",
    "mlb = \"baseball_mlb\"\n",
    "ncaaf = \"americanfootball_ncaaf\"\n",
    "afl = \"aussierules_afl\"\n",
    "nhl = \"icehockey_nhl\"\n",
    "nrl = \"rugbyleague_nrl\"\n",
    "mls = \"soccer_usa_mls\"\n",
    "soccer_brazil = \"soccer_brazil_campeonato\"\n",
    "soccer_australia = \"soccer_australia_aleague\"\n",
    "soccer_finland = \"soccer_finland_veikkausliiga\"\n",
    "soccer_japan = \"soccer_japan_j_league\"\n",
    "soccer_ireland = \"soccer_league_of_ireland\"\n",
    "soccer_norway = \"soccer_norway_eliteserien\"\n",
    "soccer_spain2 = \"soccer_spain_segunda_division\"\n",
    "soccer_sweden = \"soccer_sweden_allsvenskan\"\n",
    "ucl = \"soccer_uefa_european_championship\""
   ]
  },
  {
   "cell_type": "markdown",
   "metadata": {},
   "source": [
    "## Make Selection Here"
   ]
  },
  {
   "cell_type": "code",
   "execution_count": 3,
   "metadata": {},
   "outputs": [],
   "source": [
    "SPORT = nba"
   ]
  },
  {
   "cell_type": "markdown",
   "metadata": {},
   "source": [
    "# Queries and Calculations"
   ]
  },
  {
   "cell_type": "code",
   "execution_count": 4,
   "metadata": {},
   "outputs": [],
   "source": [
    "# FUNCTIONS\n",
    "\n",
    "# Define a function to extract the data from the \"sites\" column and create a new DataFrame\n",
    "def extract_sites(row):\n",
    "    home_team = row[\"teams\"][0]\n",
    "    away_team = row[\"teams\"][1]\n",
    "    \n",
    "    site = row[\"sites\"]\n",
    "    if not site:\n",
    "        return None\n",
    "    # Normalize the data in the \"sites\" column\n",
    "    sites_df = json_normalize(site)\n",
    "    sites_df['last_update'] = pd.to_datetime(sites_df['last_update'], unit='s', origin='1969-12-31')\n",
    "    size = len(sites_df[\"last_update\"])\n",
    "    sites_df[\"home_team\"] = [home_team] * size\n",
    "    sites_df[\"away_team\"] = [away_team] * size\n",
    "    \n",
    "    def decimal_odds(odds):\n",
    "        home, away = odds[0], odds[-1]\n",
    "        \n",
    "        if home < 0:\n",
    "            home = 100 / abs(home)\n",
    "        else:\n",
    "            home = home / 100\n",
    "        \n",
    "        if away < 0:\n",
    "            away = 100 / abs(away)\n",
    "        else:\n",
    "            away = away / 100\n",
    "        return [round(home, 4), round(away, 4)]\n",
    "    \n",
    "    sites_df['odds'] = sites_df['odds.h2h'].apply(decimal_odds)\n",
    "    sites_df[\"sportsbook\"] = sites_df['site_nice']\n",
    "    sites_df[\"home_odds\"] = sites_df[\"odds\"].apply(lambda x: x[0])\n",
    "    sites_df[\"away_odds\"] = sites_df[\"odds\"].apply(lambda x: x[1])\n",
    "    sites_df = sites_df[['home_team', 'away_team', 'sportsbook','home_odds', 'away_odds']]\n",
    "    # Return the normalized DataFrame\n",
    "    return sites_df\n",
    "\n",
    "def find_arbitrage(df):\n",
    "    max_home = df.loc[df[\"home_odds\"].idxmax()]\n",
    "    max_away = df.loc[df[\"away_odds\"].idxmax()]\n",
    "    \n",
    "    return guaranteed_profit(max_home[\"home_odds\"], max_away[\"away_odds\"], max_home[\"sportsbook\"], max_away[\"sportsbook\"], max_home[\"home_team\"], max_away[\"away_team\"])\n",
    "\n",
    "def guaranteed_profit(home, away, home_sportsbook, away_sportsbook, home_team, away_team):\n",
    "    # Calculate the amount to bet on home to win $100\n",
    "    x = round(100 / (home + 1), 2)\n",
    "    # Calculate the amount to bet on away to win $100\n",
    "    y = round(100 / (away + 1), 2)\n",
    "    # Calculate the total amount bet\n",
    "    total_bet = x + y\n",
    "    # Calculate the profit\n",
    "    profit = 100 - total_bet\n",
    "    # If the total amount bet is more than $100, return None\n",
    "    if total_bet >= 99.9:\n",
    "        return None\n",
    "    # Otherwise, return the amount to bet on each side and the profit\n",
    "    if home >= 1:\n",
    "        home = str(round(home * 100))\n",
    "    elif home < 1:\n",
    "        home = str(round(-100 / home))\n",
    "        \n",
    "    if away >= 1:\n",
    "        away = str(round(away * 100))\n",
    "    elif away < 1:\n",
    "        away = str(round(-100 / away))\n",
    "        \n",
    "    return pd.DataFrame(\n",
    "        {\"home team\": home_team,\n",
    "         \"away team\": away_team,\n",
    "         \"home sportsbook\": [home_sportsbook],\n",
    "         \"away sportsbook\": [away_sportsbook],\n",
    "         \"home bet amount\": [x],\n",
    "         \"away bet amount\": [y],\n",
    "         \"home team odds\": [home],\n",
    "         \"away team odds\": [away],\n",
    "         \"roi\": [profit]\n",
    "        }\n",
    "    )"
   ]
  },
  {
   "cell_type": "code",
   "execution_count": 5,
   "metadata": {},
   "outputs": [],
   "source": [
    "# Set the API endpoint URL\n",
    "api_url = \"https://api.the-odds-api.com/v3/odds\"\n",
    "\n",
    "# Set the API request parameters\n",
    "params = {\n",
    "    \"api_key\": \"f922071b55b41ce5c36770c7ba68ef4a\",  # Your API key\n",
    "    \"sport\": SPORT,  # The sport to get odds for (basketball_nba for NBA)\n",
    "    \"region\": \"us\",  # The region to get odds for (us for United States)\n",
    "    \"mkt\": \"h2h\",  # The market to get odds for (h2h for head-to-head)\n",
    "    \"oddsFormat\": \"american\"\n",
    "}\n",
    "\n",
    "# Send the API request and get the response\n",
    "response = requests.get(api_url, params=params)\n",
    "\n",
    "# Parse the response as JSON\n",
    "data = response.json()\n",
    "\n",
    "# Print the sportsbook data\n",
    "data = pd.DataFrame(data[\"data\"])\n",
    "ret = pd.DataFrame(columns = [\"home team\",\"away team\",\"home sportsbook\",\"away sportsbook\",\"home bet amount\",\"away bet amount\",\"home team odds\",\"away team odds\", \"roi\"])\n",
    "for _, row in data.iterrows():\n",
    "    ret = ret.append(find_arbitrage(extract_sites(row)), sort=False)"
   ]
  },
  {
   "cell_type": "markdown",
   "metadata": {},
   "source": [
    "# Arbitrage Opportunities"
   ]
  },
  {
   "cell_type": "code",
   "execution_count": 6,
   "metadata": {
    "scrolled": false
   },
   "outputs": [
    {
     "name": "stdout",
     "output_type": "stream",
     "text": [
      "Opportunity 1: Chicago Bulls @ Utah Jazz\n",
      "Bet $81.82 on Chicago Bulls via MyBookie.ag sportsbook @ -450 odds\n",
      "Bet $11.11 on Utah Jazz via Caesars sportsbook @ 800 odds\n",
      "ROI = $7.07\n",
      "\n",
      "\n",
      "Opportunity 2: Los Angeles Lakers @ Sacramento Kings\n",
      "Bet $52.38 on Los Angeles Lakers via DraftKings sportsbook @ -110 odds\n",
      "Bet $28.57 on Sacramento Kings via MyBookie.ag sportsbook @ 250 odds\n",
      "ROI = $19.05\n",
      "\n",
      "\n"
     ]
    }
   ],
   "source": [
    "for i in range(len(ret)):\n",
    "    row = ret.iloc[i]\n",
    "    print(f\"Opportunity {i+1}: {row['home team']} @ {row['away team']}\")\n",
    "    print(f\"Bet ${row['home bet amount']:.2f} on {row['home team']} via {row['home sportsbook']} sportsbook @ {row['home team odds']} odds\")\n",
    "    print(f\"Bet ${row['away bet amount']:.2f} on {row['away team']} via {row['away sportsbook']} sportsbook @ {row['away team odds']} odds\")\n",
    "    print(f\"ROI = ${row.roi:.2f}\\n\\n\")\n"
   ]
  },
  {
   "cell_type": "code",
   "execution_count": null,
   "metadata": {},
   "outputs": [],
   "source": []
  }
 ],
 "metadata": {
  "kernelspec": {
   "display_name": "Python 3 (ipykernel)",
   "language": "python",
   "name": "python3"
  },
  "language_info": {
   "codemirror_mode": {
    "name": "ipython",
    "version": 3
   },
   "file_extension": ".py",
   "mimetype": "text/x-python",
   "name": "python",
   "nbconvert_exporter": "python",
   "pygments_lexer": "ipython3",
   "version": "3.7.4"
  },
  "toc": {
   "base_numbering": 1,
   "nav_menu": {},
   "number_sections": true,
   "sideBar": true,
   "skip_h1_title": false,
   "title_cell": "Table of Contents",
   "title_sidebar": "Contents",
   "toc_cell": false,
   "toc_position": {},
   "toc_section_display": true,
   "toc_window_display": false
  }
 },
 "nbformat": 4,
 "nbformat_minor": 2
}
